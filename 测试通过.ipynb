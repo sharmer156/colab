{
  "nbformat": 4,
  "nbformat_minor": 0,
  "metadata": {
    "colab": {
      "name": "“Untitled2.ipynb”的副本",
      "version": "0.3.2",
      "provenance": [],
      "collapsed_sections": [],
      "toc_visible": true,
      "include_colab_link": true
    },
    "kernelspec": {
      "name": "python3",
      "display_name": "Python 3"
    },
    "accelerator": "GPU"
  },
  "cells": [
    {
      "cell_type": "markdown",
      "metadata": {
        "id": "view-in-github",
        "colab_type": "text"
      },
      "source": [
        "[View in Colaboratory](https://colab.research.google.com/github/sharmer156/colab/blob/master/%E6%B5%8B%E8%AF%95%E9%80%9A%E8%BF%87.ipynb)"
      ]
    },
    {
      "metadata": {
        "id": "KtQGmvODwPR_",
        "colab_type": "code",
        "colab": {}
      },
      "cell_type": "code",
      "source": [
        "import unidecode\n",
        "import string\n",
        "import random\n",
        "import re"
      ],
      "execution_count": 0,
      "outputs": []
    },
    {
      "metadata": {
        "id": "9nzcc32IwVUz",
        "colab_type": "code",
        "colab": {
          "base_uri": "https://localhost:8080/",
          "height": 136
        },
        "outputId": "02fa0435-4e1f-4380-a027-fd38b01a731f"
      },
      "cell_type": "code",
      "source": [
        "!pip install unidecode"
      ],
      "execution_count": 0,
      "outputs": [
        {
          "output_type": "stream",
          "text": [
            "Collecting unidecode\n",
            "\u001b[?25l  Downloading https://files.pythonhosted.org/packages/59/ef/67085e30e8bbcdd76e2f0a4ad8151c13a2c5bce77c85f8cad6e1f16fb141/Unidecode-1.0.22-py2.py3-none-any.whl (235kB)\n",
            "\u001b[K    100% |████████████████████████████████| 235kB 14.7MB/s \n",
            "\u001b[?25hInstalling collected packages: unidecode\n",
            "Successfully installed unidecode-1.0.22\n",
            "\u001b[33mYou are using pip version 10.0.1, however version 18.0 is available.\n",
            "You should consider upgrading via the 'pip install --upgrade pip' command.\u001b[0m\n"
          ],
          "name": "stdout"
        }
      ]
    },
    {
      "metadata": {
        "id": "zC6ld7PNyXB6",
        "colab_type": "code",
        "colab": {
          "base_uri": "https://localhost:8080/",
          "height": 233
        },
        "outputId": "046f76d3-d026-45ca-b7e7-964044077e2e"
      },
      "cell_type": "code",
      "source": [
        "all_characters = string.printable\n",
        "n_characters = len(all_characters)\n",
        "\n",
        "file = unidecode.unidecode(open('date/flyaway-0.txt').read())\n",
        "file_len = len(file)\n",
        "print('file_len =', file_len)"
      ],
      "execution_count": 0,
      "outputs": [
        {
          "output_type": "error",
          "ename": "FileNotFoundError",
          "evalue": "ignored",
          "traceback": [
            "\u001b[0;31m---------------------------------------------------------------------------\u001b[0m",
            "\u001b[0;31mFileNotFoundError\u001b[0m                         Traceback (most recent call last)",
            "\u001b[0;32m<ipython-input-2-bb35416b1b00>\u001b[0m in \u001b[0;36m<module>\u001b[0;34m()\u001b[0m\n\u001b[1;32m      2\u001b[0m \u001b[0mn_characters\u001b[0m \u001b[0;34m=\u001b[0m \u001b[0mlen\u001b[0m\u001b[0;34m(\u001b[0m\u001b[0mall_characters\u001b[0m\u001b[0;34m)\u001b[0m\u001b[0;34m\u001b[0m\u001b[0m\n\u001b[1;32m      3\u001b[0m \u001b[0;34m\u001b[0m\u001b[0m\n\u001b[0;32m----> 4\u001b[0;31m \u001b[0mfile\u001b[0m \u001b[0;34m=\u001b[0m \u001b[0munidecode\u001b[0m\u001b[0;34m.\u001b[0m\u001b[0munidecode\u001b[0m\u001b[0;34m(\u001b[0m\u001b[0mopen\u001b[0m\u001b[0;34m(\u001b[0m\u001b[0;34m'date/flyaway-0.txt'\u001b[0m\u001b[0;34m)\u001b[0m\u001b[0;34m.\u001b[0m\u001b[0mread\u001b[0m\u001b[0;34m(\u001b[0m\u001b[0;34m)\u001b[0m\u001b[0;34m)\u001b[0m\u001b[0;34m\u001b[0m\u001b[0m\n\u001b[0m\u001b[1;32m      5\u001b[0m \u001b[0mfile_len\u001b[0m \u001b[0;34m=\u001b[0m \u001b[0mlen\u001b[0m\u001b[0;34m(\u001b[0m\u001b[0mfile\u001b[0m\u001b[0;34m)\u001b[0m\u001b[0;34m\u001b[0m\u001b[0m\n\u001b[1;32m      6\u001b[0m \u001b[0mprint\u001b[0m\u001b[0;34m(\u001b[0m\u001b[0;34m'file_len ='\u001b[0m\u001b[0;34m,\u001b[0m \u001b[0mfile_len\u001b[0m\u001b[0;34m)\u001b[0m\u001b[0;34m\u001b[0m\u001b[0m\n",
            "\u001b[0;31mFileNotFoundError\u001b[0m: [Errno 2] No such file or directory: 'date/flyaway-0.txt'"
          ]
        }
      ]
    },
    {
      "metadata": {
        "id": "-LEB3fFh0E3T",
        "colab_type": "code",
        "colab": {
          "base_uri": "https://localhost:8080/",
          "height": 34
        },
        "outputId": "64c81d0b-8499-4004-934e-bb374134e1be"
      },
      "cell_type": "code",
      "source": [
        "!dir"
      ],
      "execution_count": 0,
      "outputs": [
        {
          "output_type": "stream",
          "text": [
            "datalab\r\n"
          ],
          "name": "stdout"
        }
      ]
    },
    {
      "metadata": {
        "id": "DbpjkFRe0Z3K",
        "colab_type": "code",
        "colab": {
          "base_uri": "https://localhost:8080/",
          "height": 34
        },
        "outputId": "61e2b2b9-3905-4e9d-f791-4ad21d4d2bca"
      },
      "cell_type": "code",
      "source": [
        "!whereis date"
      ],
      "execution_count": 0,
      "outputs": [
        {
          "output_type": "stream",
          "text": [
            "date: /bin/date /usr/share/man/man1/date.1.gz\r\n"
          ],
          "name": "stdout"
        }
      ]
    },
    {
      "metadata": {
        "id": "hOkdhjSn073S",
        "colab_type": "code",
        "colab": {}
      },
      "cell_type": "code",
      "source": [
        "import unidecode\n",
        "import string\n",
        "import random\n",
        "import re\n",
        "from urllib.request import urlopen"
      ],
      "execution_count": 0,
      "outputs": []
    },
    {
      "metadata": {
        "id": "84qlU1v80v4a",
        "colab_type": "code",
        "colab": {
          "base_uri": "https://localhost:8080/",
          "height": 34
        },
        "outputId": "67718b86-7276-4fd4-9ca9-9d1183aae2f7"
      },
      "cell_type": "code",
      "source": [
        "all_characters = string.printable\n",
        "n_characters = len(all_characters)\n",
        "\n",
        "all_characters = string.printable\n",
        "n_characters = len(all_characters)\n",
        "\n",
        "file = unidecode.unidecode(urlopen('https://raw.githubusercontent.com/sharmer156/colab/master/1NLP/fieliaoji/date/flyaway-0.txt').read().decode()) #读取网络数据需要添加.decode()，另github需要点入raw文件才是源数据，否则就是包含网页的地址\n",
        "file_len = len(file)\n",
        "print('file_len =', file_len)\n",
        "\n"
      ],
      "execution_count": 70,
      "outputs": [
        {
          "output_type": "stream",
          "text": [
            "file_len = 28297\n"
          ],
          "name": "stdout"
        }
      ]
    },
    {
      "metadata": {
        "id": "6M8YsohJ5pC3",
        "colab_type": "code",
        "colab": {}
      },
      "cell_type": "code",
      "source": [
        ""
      ],
      "execution_count": 0,
      "outputs": []
    },
    {
      "metadata": {
        "id": "mFdIcLKK_tFP",
        "colab_type": "code",
        "colab": {
          "base_uri": "https://localhost:8080/",
          "height": 544
        },
        "outputId": "4451d687-78bf-49ea-a19c-82a2453239b3"
      },
      "cell_type": "code",
      "source": [
        "# http://pytorch.org/\n",
        "from os import path\n",
        "from wheel.pep425tags import get_abbr_impl, get_impl_ver, get_abi_tag\n",
        "platform = '{}{}-{}'.format(get_abbr_impl(), get_impl_ver(), get_abi_tag())\n",
        "\n",
        "accelerator = 'cu80' if path.exists('/opt/bin/nvidia-smi') else 'cpu'\n",
        "\n",
        "!pip install -q http://download.pytorch.org/whl/{accelerator}/torch-0.3.0.post4-{platform}-linux_x86_64.whl torchvision\n",
        "import torch"
      ],
      "execution_count": 52,
      "outputs": [
        {
          "output_type": "stream",
          "text": [
            "^C\r\n",
            "Traceback (most recent call last):\r\n",
            "  File \"/usr/local/bin/pip3\", line 11, in <module>\r\n",
            "    sys.exit(main())\r\n",
            "  File \"/usr/local/lib/python3.6/dist-packages/pip/_internal/__init__.py\", line 246, in main\r\n",
            "    return command.main(cmd_args)\r\n",
            "  File \"/usr/local/lib/python3.6/dist-packages/pip/_internal/basecommand.py\", line 264, in main\r\n",
            "    timeout=min(5, options.timeout)) as session:\r\n",
            "  File \"/usr/local/lib/python3.6/dist-packages/pip/_internal/basecommand.py\", line 81, in _build_session\r\n",
            "    insecure_hosts=options.trusted_hosts,\r\n",
            "  File \"/usr/local/lib/python3.6/dist-packages/pip/_internal/download.py\", line 338, in __init__\r\n",
            "    self.headers[\"User-Agent\"] = user_agent()\r\n",
            "  File \"/usr/local/lib/python3.6/dist-packages/pip/_internal/download.py\", line 127, in user_agent\r\n",
            "    setuptools_version = get_installed_version(\"setuptools\")\r\n",
            "  File \"/usr/local/lib/python3.6/dist-packages/pip/_internal/utils/misc.py\", line 829, in get_installed_version\r\n",
            "    working_set = pkg_resources.WorkingSet()\r\n",
            "  File \"/usr/local/lib/python3.6/dist-packages/pip/_vendor/pkg_resources/__init__.py\", line 558, in __init__\r\n",
            "    self.add_entry(entry)\r\n",
            "  File \"/usr/local/lib/python3.6/dist-packages/pip/_vendor/pkg_resources/__init__.py\", line 614, in add_entry\r\n",
            "    for dist in find_distributions(entry, True):\r\n",
            "  File \"/usr/local/lib/python3.6/dist-packages/pip/_vendor/pkg_resources/__init__.py\", line 1964, in find_on_path\r\n",
            "    for dist in factory(fullpath):\r\n",
            "  File \"/usr/local/lib/python3.6/dist-packages/pip/_vendor/pkg_resources/__init__.py\", line 2034, in distributions_from_metadata\r\n",
            "    root, entry, metadata, precedence=DEVELOP_DIST,\r\n",
            "  File \"/usr/local/lib/python3.6/dist-packages/pip/_vendor/pkg_resources/__init__.py\", line 2473, in from_location\r\n",
            "    py_version=py_version, platform=platform, **kw\r\n",
            "  File \"/usr/local/lib/python3.6/dist-packages/pip/_vendor/pkg_resources/__init__.py\", line 2452, in __init__\r\n",
            "    self._version = safe_version(version)\r\n",
            "  File \"/usr/local/lib/python3.6/dist-packages/pip/_vendor/pkg_resources/__init__.py\", line 1323, in safe_version\r\n",
            "    return str(packaging.version.Version(version))\r\n",
            "KeyboardInterrupt\r\n"
          ],
          "name": "stdout"
        }
      ]
    },
    {
      "metadata": {
        "id": "ya3724z3_xg_",
        "colab_type": "code",
        "colab": {}
      },
      "cell_type": "code",
      "source": [
        "import torch\n",
        "import torch.nn as nn\n",
        "from torch.autograd import Variable\n",
        "\n",
        "class RNN(nn.Module):\n",
        "    def __init__(self, input_size, hidden_size, output_size, n_layers=1):\n",
        "        super(RNN, self).__init__()\n",
        "        self.input_size = input_size\n",
        "        self.hidden_size = hidden_size\n",
        "        self.output_size = output_size\n",
        "        self.n_layers = n_layers\n",
        "\n",
        "        self.encoder = nn.Embedding(input_size, hidden_size)\n",
        "        self.gru = nn.GRU(hidden_size, hidden_size, n_layers)\n",
        "        self.decoder = nn.Linear(hidden_size, output_size)\n",
        "\n",
        "    def forward(self, input, hidden):\n",
        "        input = self.encoder(input.view(1, -1))\n",
        "        output, hidden = self.gru(input.view(1, 1, -1), hidden)\n",
        "        output = self.decoder(output.view(1, -1))\n",
        "        return output, hidden\n",
        "\n",
        "    def init_hidden(self):\n",
        "        return Variable(torch.zeros(self.n_layers, 1, self.hidden_size))"
      ],
      "execution_count": 0,
      "outputs": []
    },
    {
      "metadata": {
        "id": "HNq5E0Er5vWx",
        "colab_type": "code",
        "colab": {
          "base_uri": "https://localhost:8080/",
          "height": 170
        },
        "outputId": "32521a1c-d26a-45c7-d578-988abf2af90f"
      },
      "cell_type": "code",
      "source": [
        "# 把string变成LongTensor\n",
        "def char_tensor(string):\n",
        "    tensor = torch.zeros(len(string)).long()\n",
        "    for c in range(len(string)):\n",
        "        tensor[c] = all_characters.index(string[c])\n",
        "    return Variable(tensor)\n",
        "\n",
        "print(char_tensor('abcDEF'))"
      ],
      "execution_count": 72,
      "outputs": [
        {
          "output_type": "stream",
          "text": [
            "Variable containing:\n",
            " 10\n",
            " 11\n",
            " 12\n",
            " 39\n",
            " 40\n",
            " 41\n",
            "[torch.LongTensor of size 6]\n",
            "\n"
          ],
          "name": "stdout"
        }
      ]
    },
    {
      "metadata": {
        "id": "a0i6sjrU5vYJ",
        "colab_type": "code",
        "colab": {}
      },
      "cell_type": "code",
      "source": [
        "def random_training_set():    \n",
        "    chunk = random_chunk()\n",
        "    inp = char_tensor(chunk[:-1])\n",
        "    target = char_tensor(chunk[1:])\n",
        "    return inp, target"
      ],
      "execution_count": 0,
      "outputs": []
    },
    {
      "metadata": {
        "id": "4Mi0dANJ6XnJ",
        "colab_type": "code",
        "colab": {}
      },
      "cell_type": "code",
      "source": [
        "def evaluate(prime_str='A', predict_len=100, temperature=0.8):\n",
        "    hidden = decoder.init_hidden()\n",
        "    prime_input = char_tensor(prime_str)\n",
        "    predicted = prime_str\n",
        "\n",
        "    # 假设输入的前缀是字符串prime_str，先用它来改变隐状态\n",
        "    for p in range(len(prime_str) - 1):\n",
        "        _, hidden = decoder(prime_input[p], hidden)\n",
        "    inp = prime_input[-1]\n",
        "\n",
        "    for p in range(predict_len):\n",
        "        output, hidden = decoder(inp, hidden)\n",
        "\n",
        "        # 根据输出概率采样\n",
        "        output_dist = output.data.view(-1).div(temperature).exp()\n",
        "        top_i = torch.multinomial(output_dist, 1)[0]\n",
        "\n",
        "        # 用上一个输出作为下一轮的输入\n",
        "        predicted_char = all_characters[top_i]\n",
        "        predicted += predicted_char\n",
        "        inp = char_tensor(predicted_char)\n",
        "\n",
        "    return predicted"
      ],
      "execution_count": 0,
      "outputs": []
    },
    {
      "metadata": {
        "id": "jPjn1ZOM6YQz",
        "colab_type": "code",
        "colab": {}
      },
      "cell_type": "code",
      "source": [
        "import time, math\n",
        "\n",
        "def time_since(since):\n",
        "    s = time.time() - since\n",
        "    m = math.floor(s / 60)\n",
        "    s -= m * 60\n",
        "    return '%dm %ds' % (m, s)"
      ],
      "execution_count": 0,
      "outputs": []
    },
    {
      "metadata": {
        "id": "riDQ-X7I6YR7",
        "colab_type": "code",
        "colab": {}
      },
      "cell_type": "code",
      "source": [
        "def train(inp, target):\n",
        "    hidden = decoder.init_hidden()\n",
        "    decoder.zero_grad()\n",
        "    loss = 0\n",
        "\n",
        "    for c in range(chunk_len):\n",
        "        output, hidden = decoder(inp[c], hidden)\n",
        "        loss += criterion(output, target[c])\n",
        "\n",
        "    loss.backward()\n",
        "    decoder_optimizer.step()\n",
        "\n",
        "    return loss.data[0] / chunk_len"
      ],
      "execution_count": 0,
      "outputs": []
    },
    {
      "metadata": {
        "id": "Fyg7n3Mn53a4",
        "colab_type": "code",
        "colab": {
          "base_uri": "https://localhost:8080/",
          "height": 1037
        },
        "outputId": "234d565c-6cac-41dc-bdf4-60bf3548957f"
      },
      "cell_type": "code",
      "source": [
        "n_epochs = 2000\n",
        "print_every = 100\n",
        "plot_every = 10\n",
        "hidden_size = 100\n",
        "n_layers = 1\n",
        "lr = 0.005\n",
        "\n",
        "decoder = RNN(n_characters, hidden_size, n_characters, n_layers)\n",
        "decoder_optimizer = torch.optim.Adam(decoder.parameters(), lr=lr)\n",
        "criterion = nn.CrossEntropyLoss()\n",
        "\n",
        "start = time.time()\n",
        "all_losses = []\n",
        "loss_avg = 0\n",
        "\n",
        "for epoch in range(1, n_epochs + 1):\n",
        "    loss = train(*random_training_set())       \n",
        "    loss_avg += loss\n",
        "\n",
        "    if epoch % print_every == 0:\n",
        "        print('[%s (%d %d%%) %.4f]' % (time_since(start), epoch, epoch / n_epochs * 100, loss))\n",
        "        print(evaluate('Wh', 100), '\\n')\n",
        "\n",
        "    if epoch % plot_every == 0:\n",
        "        all_losses.append(loss_avg / plot_every)\n",
        "        loss_avg = 0"
      ],
      "execution_count": 77,
      "outputs": [
        {
          "output_type": "stream",
          "text": [
            "[0m 1s (100 5%) 2.1307]\n",
            "Wh. Tougs ame sings the ming of ore skors s sme arts the the foS the Soe wort thee my ow wong uto to p \n",
            "\n",
            "[0m 4s (200 10%) 2.0263]\n",
            "Whe fare the the comut ite the sris the nar the redins risto the ouin neathe the the da o, is in the b \n",
            "\n",
            "[0m 5s (300 15%) 2.0301]\n",
            "Whess is dess eapds the osen the hen gthe the sees the deyrin the chise lowne the the mes ows the of c \n",
            "\n",
            "[0m 7s (400 20%) 1.9634]\n",
            "Whe in pois is whay. Whe int lalng The saskong bur roft ang ruist but gis in the is pots and  rairt ai \n",
            "\n",
            "[0m 9s (500 25%) 2.1029]\n",
            "Whis is pamp in loven the cast shawhet is own silen cher, suling the this how of peo ford and sis ming \n",
            "\n",
            "[0m 11s (600 30%) 1.8675]\n",
            "Whe mare mord, I am to hein efhow you tromet to am amp fong of to the sam in gre, The I you the surts  \n",
            "\n",
            "[0m 13s (700 35%) 2.0378]\n",
            "Whisoullisle an butes dents life fre but weel, de is sing ther, I me foome word apling seallingh event \n",
            "\n",
            "[0m 15s (800 40%) 1.7551]\n",
            "Whe my its is is in furight is is thits mone an it sul me now be thy sillls, and in and a gors, my gre \n",
            "\n",
            "[0m 17s (900 45%) 1.2085]\n",
            "Whelighs the of the shing heip sid my hit sunesss. Thee grigle its it nid mesed and undrid the galess, \n",
            "\n",
            "[0m 19s (1000 50%) 1.8725]\n",
            "Whe worrld in wlow my feron the worken youret mys of routh of goures of the werld in to mers of kearrn \n",
            "\n",
            "[0m 21s (1100 55%) 2.2491]\n",
            "Wh to thir the in fore fom the endin our fore uno an in. The nime the me fouce in the words, my its it \n",
            "\n",
            "[0m 23s (1200 60%) 1.6359]\n",
            "Whits is way its mord doned sammmids lef this wormely torive your the and like to the secarke, and nom \n",
            "\n",
            "[0m 25s (1300 65%) 1.9475]\n",
            "Whoug--bens world I and infifefing things bet waltishoot long on. The wrome thoughting bend the sain t \n",
            "\n",
            "[0m 27s (1400 70%) 2.4074]\n",
            "Whes is day Treezes. OThe nees becar. The bene a night. The beed not beeze dus me let to des bloneing  \n",
            "\n",
            "[0m 29s (1500 75%) 2.3163]\n",
            "Whe drops of morke my eve have freaves sun dearsteles fares have wha haves in of nool of dearth draude \n",
            "\n",
            "[0m 31s (1600 80%) 1.8014]\n",
            "When isstor arnor of vove. He harwinde carth, ands astarnt the ar worldpth in the wearth a am noic of  \n",
            "\n",
            "[0m 33s (1700 85%) 1.4551]\n",
            "Whe leins the limes tuer the lofe the bet upilles of mues of nestile. Arien a a comes of the suntof ch \n",
            "\n",
            "[0m 35s (1800 90%) 1.6061]\n",
            "Wherads. Then the opon. Bree, do benied its the deret to hot though lighot, not blimball kestess. O pe \n",
            "\n",
            "[0m 37s (1900 95%) 1.6814]\n",
            "Whal in the no the word the alnef laughe the earkel the were who not the darks the the to roae and wha \n",
            "\n",
            "[0m 39s (2000 100%) 1.8186]\n",
            "Whist thors prines the word. Let mhe minforl; of my east. Thout thoen pusisne but my sune but shapps o \n",
            "\n"
          ],
          "name": "stdout"
        }
      ]
    },
    {
      "metadata": {
        "id": "Foqu_m3yAu3G",
        "colab_type": "code",
        "colab": {}
      },
      "cell_type": "code",
      "source": [
        ""
      ],
      "execution_count": 0,
      "outputs": []
    },
    {
      "metadata": {
        "id": "BBtMaOXB3yPI",
        "colab_type": "code",
        "colab": {
          "base_uri": "https://localhost:8080/",
          "height": 282
        },
        "outputId": "6b3f2b0d-611c-4d02-941e-f265ecad60d0"
      },
      "cell_type": "code",
      "source": [
        "import matplotlib.pyplot as plt\n",
        "import matplotlib.ticker as ticker\n",
        "%matplotlib inline\n",
        "\n",
        "plt.figure()\n",
        "plt.plot(all_losses)"
      ],
      "execution_count": 79,
      "outputs": [
        {
          "output_type": "execute_result",
          "data": {
            "text/plain": [
              "[<matplotlib.lines.Line2D at 0x7fdf14895710>]"
            ]
          },
          "metadata": {
            "tags": []
          },
          "execution_count": 79
        },
        {
          "output_type": "display_data",
          "data": {
            "image/png": "[encoded data removed]",
            "text/plain": [
              "<matplotlib.figure.Figure at 0x7fdf14915588>"
            ]
          },
          "metadata": {
            "tags": []
          }
        }
      ]
    },
    {
      "metadata": {
        "id": "tyO22xEW06ux",
        "colab_type": "code",
        "colab": {
          "base_uri": "https://localhost:8080/",
          "height": 34
        },
        "outputId": "7d741e08-fd32-4f3b-e55e-fa34f076d75a"
      },
      "cell_type": "code",
      "source": [
        "print(evaluate('The', 200, temperature=0.8))"
      ],
      "execution_count": 80,
      "outputs": [
        {
          "output_type": "stream",
          "text": [
            "The seain all morninds pin adest all the set len. Thou upn mister the sot b peart. my he whins for of the eaver be thou be to my My hist. The ment suling ponster all clot mist into the whent kast in the \n"
          ],
          "name": "stdout"
        }
      ]
    },
    {
      "metadata": {
        "id": "2O9cEXcZAvxF",
        "colab_type": "code",
        "colab": {
          "base_uri": "https://localhost:8080/",
          "height": 34
        },
        "outputId": "e9b33117-e4af-439d-a43d-7977c86810ae"
      },
      "cell_type": "code",
      "source": [
        "print(evaluate('The', 200, temperature=0.2))"
      ],
      "execution_count": 81,
      "outputs": [
        {
          "output_type": "stream",
          "text": [
            "The bet the bet my heart be chome the silence and the beart silent in my heart be bet my heart be bet the bet mentan are the clong sun my heart silence and the bet my he bet be bet the bet my he bet my h\n"
          ],
          "name": "stdout"
        }
      ]
    },
    {
      "metadata": {
        "id": "nY_UUB4GBBrG",
        "colab_type": "code",
        "colab": {
          "base_uri": "https://localhost:8080/",
          "height": 34
        },
        "outputId": "862dfcb5-3c55-4ce0-826a-55935d132e74"
      },
      "cell_type": "code",
      "source": [
        "print(evaluate('light', 200, temperature=0.5))"
      ],
      "execution_count": 82,
      "outputs": [
        {
          "output_type": "stream",
          "text": [
            "light in my he stain be the earth sust and in the bet be becth flodes the brom the my not min mind. Lome by mong peart the beart be the bet daind mirth the mon and of the mong sunser sun my heart be be fil\n"
          ],
          "name": "stdout"
        }
      ]
    }
  ]
}